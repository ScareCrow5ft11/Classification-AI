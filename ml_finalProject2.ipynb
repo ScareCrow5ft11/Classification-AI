{
  "nbformat": 4,
  "nbformat_minor": 0,
  "metadata": {
    "colab": {
      "provenance": []
    },
    "kernelspec": {
      "name": "python3",
      "display_name": "Python 3"
    },
    "language_info": {
      "name": "python"
    }
  },
  "cells": [
    {
      "cell_type": "code",
      "source": [
        "import numpy as np\n",
        "import pandas as pd\n",
        "import matplotlib.pyplot as plt\n",
        "import seaborn as sns\n",
        "from sklearn.model_selection import train_test_split\n",
        "from sklearn.feature_extraction.text import TfidfVectorizer\n",
        "from sklearn.linear_model import LogisticRegression\n",
        "from sklearn.metrics import accuracy_score, classification_report, confusion_matrix\n",
        "import tensorflow as tf\n",
        "from tensorflow.keras.datasets import imdb\n",
        "from tensorflow.keras.preprocessing.sequence import pad_sequences\n",
        "from tensorflow.keras.models import Sequential\n",
        "from tensorflow.keras.layers import Dense, Dropout\n",
        "import re\n",
        "import nltk\n",
        "from nltk.corpus import stopwords\n"
      ],
      "metadata": {
        "id": "WRnrsgUgKCN7"
      },
      "execution_count": 2,
      "outputs": []
    },
    {
      "cell_type": "code",
      "source": [
        "print(\"\\n\" + \"=\"*50)\n",
        "print(\"STEP 1: Data Preparation\")\n",
        "print(\"=\"*50)\n",
        "\n",
        "# Download stopwords if needed\n",
        "nltk.download('stopwords')\n",
        "\n",
        "# Set random seed for reproducibility\n",
        "np.random.seed(1409)\n",
        "tf.random.set_seed(764)\n",
        "\n",
        "print(\"Loading IMDB dataset...\")\n",
        "# Load the IMDB dataset with Keras (top 10,000 words)\n",
        "num_words = 500000\n",
        "(X_train, y_train), (X_test, y_test) = imdb.load_data(num_words=num_words)\n",
        "\n",
        "# Convert the sequences back to text\n",
        "word_index = imdb.get_word_index()\n",
        "# Create a reverse mapping\n",
        "reverse_word_index = dict([(value, key) for (key, value) in word_index.items()])\n",
        "\n",
        "def sequence_to_text(sequence):\n",
        "    # Add 3 because 0, 1, and 2 are reserved indices for padding, start, and unknown\n",
        "    return ' '.join([reverse_word_index.get(i - 3, '?') for i in sequence if i > 3])\n",
        "\n",
        "# Convert sequences to text\n",
        "X_train_text = [sequence_to_text(seq) for seq in X_train]\n",
        "X_test_text = [sequence_to_text(seq) for seq in X_test]\n",
        "\n",
        "print(f\"Training examples: {len(X_train_text)}, Test examples: {len(X_test_text)}\")\n",
        "\n",
        "# Optional: Print a few examples to examine the data\n",
        "print(\"\\nSample reviews:\")\n",
        "for i in range(2):\n",
        "    print(f\"Review {i+1}: {X_train_text[i][:200]}...\")\n",
        "    print(f\"Sentiment: {'Positive' if y_train[i] == 1 else 'Negative'}\")\n",
        "    print()\n"
      ],
      "metadata": {
        "colab": {
          "base_uri": "https://localhost:8080/"
        },
        "id": "uBcxixdIKFzi",
        "outputId": "b0d91efe-dd48-495e-ac0d-91a422ebc7a2"
      },
      "execution_count": 3,
      "outputs": [
        {
          "output_type": "stream",
          "name": "stdout",
          "text": [
            "\n",
            "==================================================\n",
            "STEP 1: Data Preparation\n",
            "==================================================\n",
            "Loading IMDB dataset...\n"
          ]
        },
        {
          "output_type": "stream",
          "name": "stderr",
          "text": [
            "[nltk_data] Downloading package stopwords to /root/nltk_data...\n",
            "[nltk_data]   Package stopwords is already up-to-date!\n"
          ]
        },
        {
          "output_type": "stream",
          "name": "stdout",
          "text": [
            "Training examples: 25000, Test examples: 25000\n",
            "\n",
            "Sample reviews:\n",
            "Review 1: this film was just brilliant casting location scenery story direction everyone's really suited the part they played and you could just imagine being there robert redford's is an amazing actor and now ...\n",
            "Sentiment: Positive\n",
            "\n",
            "Review 2: big hair big boobs bad music and a giant safety pin these are the words to best describe this terrible movie i love cheesy horror movies and i've seen hundreds but this had got to be on of the worst e...\n",
            "Sentiment: Negative\n",
            "\n"
          ]
        }
      ]
    },
    {
      "cell_type": "code",
      "source": [
        "print(\"\\n\" + \"=\"*50)\n",
        "print(\"STEP 2: Text Preprocessing\")\n",
        "print(\"=\"*50)\n",
        "\n",
        "def preprocess_text(text):\n",
        "    # Convert to lowercase\n",
        "    text = text.lower()\n",
        "    # Remove punctuation and numbers\n",
        "    text = re.sub(r'[^\\w\\s]', '', text)\n",
        "    text = re.sub(r'\\d+', '', text)\n",
        "    # Remove stopwords\n",
        "    stop_words = set(stopwords.words('english'))\n",
        "    words = text.split()\n",
        "    words = [word for word in words if word not in stop_words]\n",
        "    return ' '.join(words)\n",
        "\n",
        "# Apply preprocessing to both training and test sets\n",
        "print(\"Preprocessing text data...\")\n",
        "X_train_processed = [preprocess_text(text) for text in X_train_text]\n",
        "X_test_processed = [preprocess_text(text) for text in X_test_text]\n",
        "\n",
        "# Print a before/after example\n",
        "print(\"\\nPreprocessing example:\")\n",
        "print(f\"Original: {X_train_text[0][:200]}...\")\n",
        "print(f\"Processed: {X_train_processed[0][:200]}...\")\n"
      ],
      "metadata": {
        "colab": {
          "base_uri": "https://localhost:8080/"
        },
        "id": "R5RgXdx2KF4S",
        "outputId": "b07edfad-72e3-4b00-b11f-8ed848628929"
      },
      "execution_count": 4,
      "outputs": [
        {
          "output_type": "stream",
          "name": "stdout",
          "text": [
            "\n",
            "==================================================\n",
            "STEP 2: Text Preprocessing\n",
            "==================================================\n",
            "Preprocessing text data...\n",
            "\n",
            "Preprocessing example:\n",
            "Original: this film was just brilliant casting location scenery story direction everyone's really suited the part they played and you could just imagine being there robert redford's is an amazing actor and now ...\n",
            "Processed: film brilliant casting location scenery story direction everyones really suited part played could imagine robert redfords amazing actor director normans father came scottish island loved fact real con...\n"
          ]
        }
      ]
    },
    {
      "cell_type": "code",
      "source": [
        "print(\"\\n\" + \"=\"*50)\n",
        "print(\"STEP 3: Feature Extraction\")\n",
        "print(\"=\"*50)\n",
        "\n",
        "print(\"Extracting TF-IDF features...\")\n",
        "tfidf_vectorizer = TfidfVectorizer(max_features=10000)  # Reduced to make neural network training more efficient\n",
        "X_train_tfidf = tfidf_vectorizer.fit_transform(X_train_processed)\n",
        "X_test_tfidf = tfidf_vectorizer.transform(X_test_processed)\n",
        "\n",
        "print(f\"Feature matrix shape: {X_train_tfidf.shape}\")\n",
        "print(f\"Number of unique terms: {len(tfidf_vectorizer.get_feature_names_out())}\")\n",
        "\n",
        "# Convert sparse matrix to dense for Keras\n",
        "X_train_tfidf_dense = X_train_tfidf.toarray()\n",
        "X_test_tfidf_dense = X_test_tfidf.toarray()\n",
        "\n",
        "# Create a validation set for the neural network\n",
        "X_train_final, X_val, y_train_final, y_val = train_test_split(\n",
        "    X_train_tfidf_dense, y_train, test_size=0.2, random_state=42\n",
        ")\n",
        "\n",
        "print(f\"Training set shape: {X_train_final.shape}\")\n",
        "print(f\"Validation set shape: {X_val.shape}\")\n",
        "print(f\"Test set shape: {X_test_tfidf_dense.shape}\")\n"
      ],
      "metadata": {
        "colab": {
          "base_uri": "https://localhost:8080/"
        },
        "id": "ILEEOdZ3KF7i",
        "outputId": "10564568-7fad-4872-a773-472966637143"
      },
      "execution_count": 5,
      "outputs": [
        {
          "output_type": "stream",
          "name": "stdout",
          "text": [
            "\n",
            "==================================================\n",
            "STEP 3: Feature Extraction\n",
            "==================================================\n",
            "Extracting TF-IDF features...\n",
            "Feature matrix shape: (25000, 10000)\n",
            "Number of unique terms: 10000\n",
            "Training set shape: (20000, 10000)\n",
            "Validation set shape: (5000, 10000)\n",
            "Test set shape: (25000, 10000)\n"
          ]
        }
      ]
    },
    {
      "cell_type": "code",
      "source": [
        "print(\"\\n\" + \"=\"*50)\n",
        "print(\"STEP 4: Logistic Regression Model (Baseline)\")\n",
        "print(\"=\"*50)\n",
        "\n",
        "print(\"Training logistic regression model...\")\n",
        "lr_model = LogisticRegression(max_iter=5000)\n",
        "lr_model.fit(X_train_tfidf, y_train)\n",
        "\n",
        "print(\"Evaluating logistic regression model...\")\n",
        "y_pred = lr_model.predict(X_test_tfidf)\n",
        "accuracy = accuracy_score(y_test, y_pred)\n",
        "print(f\"Logistic Regression Accuracy: {accuracy:.4f}\")\n",
        "print(\"\\nClassification Report (Logistic Regression):\")\n",
        "print(classification_report(y_test, y_pred, target_names=['Negative', 'Positive']))"
      ],
      "metadata": {
        "colab": {
          "base_uri": "https://localhost:8080/"
        },
        "id": "KRf5tA6bKF-T",
        "outputId": "0d075b45-110c-4eb7-ef4e-0e49fee2515b"
      },
      "execution_count": 6,
      "outputs": [
        {
          "output_type": "stream",
          "name": "stdout",
          "text": [
            "\n",
            "==================================================\n",
            "STEP 4: Logistic Regression Model (Baseline)\n",
            "==================================================\n",
            "Training logistic regression model...\n",
            "Evaluating logistic regression model...\n",
            "Logistic Regression Accuracy: 0.8830\n",
            "\n",
            "Classification Report (Logistic Regression):\n",
            "              precision    recall  f1-score   support\n",
            "\n",
            "    Negative       0.88      0.88      0.88     12500\n",
            "    Positive       0.88      0.88      0.88     12500\n",
            "\n",
            "    accuracy                           0.88     25000\n",
            "   macro avg       0.88      0.88      0.88     25000\n",
            "weighted avg       0.88      0.88      0.88     25000\n",
            "\n"
          ]
        }
      ]
    },
    {
      "cell_type": "code",
      "source": [
        "print(\"\\n\" + \"=\"*50)\n",
        "print(\"STEP 5: Neural Network Model Building\")\n",
        "print(\"=\"*50)\n",
        "\n",
        "print(\"Building neural network model...\")\n",
        "model = Sequential([\n",
        "    Dense(128, activation='relu', input_shape=(X_train_tfidf_dense.shape[1],)),\n",
        "    Dropout(0.5),\n",
        "    Dense(64, activation='relu'),\n",
        "    Dropout(0.3),\n",
        "    Dense(1, activation='sigmoid')\n",
        "])\n",
        "\n",
        "model.compile(\n",
        "    optimizer='adam',\n",
        "    loss='binary_crossentropy',\n",
        "    metrics=['accuracy']\n",
        ")\n",
        "\n",
        "print(model.summary())\n"
      ],
      "metadata": {
        "colab": {
          "base_uri": "https://localhost:8080/",
          "height": 465
        },
        "id": "jZxHZowlKGA7",
        "outputId": "27a0afe5-a864-409e-f3c6-3cb9ed7d186d"
      },
      "execution_count": 7,
      "outputs": [
        {
          "output_type": "stream",
          "name": "stdout",
          "text": [
            "\n",
            "==================================================\n",
            "STEP 5: Neural Network Model Building\n",
            "==================================================\n",
            "Building neural network model...\n"
          ]
        },
        {
          "output_type": "stream",
          "name": "stderr",
          "text": [
            "/usr/local/lib/python3.11/dist-packages/keras/src/layers/core/dense.py:87: UserWarning: Do not pass an `input_shape`/`input_dim` argument to a layer. When using Sequential models, prefer using an `Input(shape)` object as the first layer in the model instead.\n",
            "  super().__init__(activity_regularizer=activity_regularizer, **kwargs)\n"
          ]
        },
        {
          "output_type": "display_data",
          "data": {
            "text/plain": [
              "\u001b[1mModel: \"sequential_1\"\u001b[0m\n"
            ],
            "text/html": [
              "<pre style=\"white-space:pre;overflow-x:auto;line-height:normal;font-family:Menlo,'DejaVu Sans Mono',consolas,'Courier New',monospace\"><span style=\"font-weight: bold\">Model: \"sequential_1\"</span>\n",
              "</pre>\n"
            ]
          },
          "metadata": {}
        },
        {
          "output_type": "display_data",
          "data": {
            "text/plain": [
              "┏━━━━━━━━━━━━━━━━━━━━━━━━━━━━━━━━━┳━━━━━━━━━━━━━━━━━━━━━━━━┳━━━━━━━━━━━━━━━┓\n",
              "┃\u001b[1m \u001b[0m\u001b[1mLayer (type)                   \u001b[0m\u001b[1m \u001b[0m┃\u001b[1m \u001b[0m\u001b[1mOutput Shape          \u001b[0m\u001b[1m \u001b[0m┃\u001b[1m \u001b[0m\u001b[1m      Param #\u001b[0m\u001b[1m \u001b[0m┃\n",
              "┡━━━━━━━━━━━━━━━━━━━━━━━━━━━━━━━━━╇━━━━━━━━━━━━━━━━━━━━━━━━╇━━━━━━━━━━━━━━━┩\n",
              "│ dense_3 (\u001b[38;5;33mDense\u001b[0m)                 │ (\u001b[38;5;45mNone\u001b[0m, \u001b[38;5;34m128\u001b[0m)            │     \u001b[38;5;34m1,280,128\u001b[0m │\n",
              "├─────────────────────────────────┼────────────────────────┼───────────────┤\n",
              "│ dropout_2 (\u001b[38;5;33mDropout\u001b[0m)             │ (\u001b[38;5;45mNone\u001b[0m, \u001b[38;5;34m128\u001b[0m)            │             \u001b[38;5;34m0\u001b[0m │\n",
              "├─────────────────────────────────┼────────────────────────┼───────────────┤\n",
              "│ dense_4 (\u001b[38;5;33mDense\u001b[0m)                 │ (\u001b[38;5;45mNone\u001b[0m, \u001b[38;5;34m64\u001b[0m)             │         \u001b[38;5;34m8,256\u001b[0m │\n",
              "├─────────────────────────────────┼────────────────────────┼───────────────┤\n",
              "│ dropout_3 (\u001b[38;5;33mDropout\u001b[0m)             │ (\u001b[38;5;45mNone\u001b[0m, \u001b[38;5;34m64\u001b[0m)             │             \u001b[38;5;34m0\u001b[0m │\n",
              "├─────────────────────────────────┼────────────────────────┼───────────────┤\n",
              "│ dense_5 (\u001b[38;5;33mDense\u001b[0m)                 │ (\u001b[38;5;45mNone\u001b[0m, \u001b[38;5;34m1\u001b[0m)              │            \u001b[38;5;34m65\u001b[0m │\n",
              "└─────────────────────────────────┴────────────────────────┴───────────────┘\n"
            ],
            "text/html": [
              "<pre style=\"white-space:pre;overflow-x:auto;line-height:normal;font-family:Menlo,'DejaVu Sans Mono',consolas,'Courier New',monospace\">┏━━━━━━━━━━━━━━━━━━━━━━━━━━━━━━━━━┳━━━━━━━━━━━━━━━━━━━━━━━━┳━━━━━━━━━━━━━━━┓\n",
              "┃<span style=\"font-weight: bold\"> Layer (type)                    </span>┃<span style=\"font-weight: bold\"> Output Shape           </span>┃<span style=\"font-weight: bold\">       Param # </span>┃\n",
              "┡━━━━━━━━━━━━━━━━━━━━━━━━━━━━━━━━━╇━━━━━━━━━━━━━━━━━━━━━━━━╇━━━━━━━━━━━━━━━┩\n",
              "│ dense_3 (<span style=\"color: #0087ff; text-decoration-color: #0087ff\">Dense</span>)                 │ (<span style=\"color: #00d7ff; text-decoration-color: #00d7ff\">None</span>, <span style=\"color: #00af00; text-decoration-color: #00af00\">128</span>)            │     <span style=\"color: #00af00; text-decoration-color: #00af00\">1,280,128</span> │\n",
              "├─────────────────────────────────┼────────────────────────┼───────────────┤\n",
              "│ dropout_2 (<span style=\"color: #0087ff; text-decoration-color: #0087ff\">Dropout</span>)             │ (<span style=\"color: #00d7ff; text-decoration-color: #00d7ff\">None</span>, <span style=\"color: #00af00; text-decoration-color: #00af00\">128</span>)            │             <span style=\"color: #00af00; text-decoration-color: #00af00\">0</span> │\n",
              "├─────────────────────────────────┼────────────────────────┼───────────────┤\n",
              "│ dense_4 (<span style=\"color: #0087ff; text-decoration-color: #0087ff\">Dense</span>)                 │ (<span style=\"color: #00d7ff; text-decoration-color: #00d7ff\">None</span>, <span style=\"color: #00af00; text-decoration-color: #00af00\">64</span>)             │         <span style=\"color: #00af00; text-decoration-color: #00af00\">8,256</span> │\n",
              "├─────────────────────────────────┼────────────────────────┼───────────────┤\n",
              "│ dropout_3 (<span style=\"color: #0087ff; text-decoration-color: #0087ff\">Dropout</span>)             │ (<span style=\"color: #00d7ff; text-decoration-color: #00d7ff\">None</span>, <span style=\"color: #00af00; text-decoration-color: #00af00\">64</span>)             │             <span style=\"color: #00af00; text-decoration-color: #00af00\">0</span> │\n",
              "├─────────────────────────────────┼────────────────────────┼───────────────┤\n",
              "│ dense_5 (<span style=\"color: #0087ff; text-decoration-color: #0087ff\">Dense</span>)                 │ (<span style=\"color: #00d7ff; text-decoration-color: #00d7ff\">None</span>, <span style=\"color: #00af00; text-decoration-color: #00af00\">1</span>)              │            <span style=\"color: #00af00; text-decoration-color: #00af00\">65</span> │\n",
              "└─────────────────────────────────┴────────────────────────┴───────────────┘\n",
              "</pre>\n"
            ]
          },
          "metadata": {}
        },
        {
          "output_type": "display_data",
          "data": {
            "text/plain": [
              "\u001b[1m Total params: \u001b[0m\u001b[38;5;34m1,288,449\u001b[0m (4.92 MB)\n"
            ],
            "text/html": [
              "<pre style=\"white-space:pre;overflow-x:auto;line-height:normal;font-family:Menlo,'DejaVu Sans Mono',consolas,'Courier New',monospace\"><span style=\"font-weight: bold\"> Total params: </span><span style=\"color: #00af00; text-decoration-color: #00af00\">1,288,449</span> (4.92 MB)\n",
              "</pre>\n"
            ]
          },
          "metadata": {}
        },
        {
          "output_type": "display_data",
          "data": {
            "text/plain": [
              "\u001b[1m Trainable params: \u001b[0m\u001b[38;5;34m1,288,449\u001b[0m (4.92 MB)\n"
            ],
            "text/html": [
              "<pre style=\"white-space:pre;overflow-x:auto;line-height:normal;font-family:Menlo,'DejaVu Sans Mono',consolas,'Courier New',monospace\"><span style=\"font-weight: bold\"> Trainable params: </span><span style=\"color: #00af00; text-decoration-color: #00af00\">1,288,449</span> (4.92 MB)\n",
              "</pre>\n"
            ]
          },
          "metadata": {}
        },
        {
          "output_type": "display_data",
          "data": {
            "text/plain": [
              "\u001b[1m Non-trainable params: \u001b[0m\u001b[38;5;34m0\u001b[0m (0.00 B)\n"
            ],
            "text/html": [
              "<pre style=\"white-space:pre;overflow-x:auto;line-height:normal;font-family:Menlo,'DejaVu Sans Mono',consolas,'Courier New',monospace\"><span style=\"font-weight: bold\"> Non-trainable params: </span><span style=\"color: #00af00; text-decoration-color: #00af00\">0</span> (0.00 B)\n",
              "</pre>\n"
            ]
          },
          "metadata": {}
        },
        {
          "output_type": "stream",
          "name": "stdout",
          "text": [
            "None\n"
          ]
        }
      ]
    },
    {
      "cell_type": "code",
      "source": [
        "print(\"\\n\" + \"=\"*50)\n",
        "print(\"STEP 6: Neural Network Training with Epochs\")\n",
        "print(\"=\"*50)\n",
        "\n",
        "# Define the training parameters\n",
        "epochs = 10\n",
        "batch_size = 64\n",
        "\n",
        "# Train the model with history tracking\n",
        "print(\"Training neural network model...\")\n",
        "history = model.fit(\n",
        "    X_train_final, y_train_final,\n",
        "    epochs=epochs,\n",
        "    batch_size=batch_size,\n",
        "    validation_data=(X_val, y_val),\n",
        "    verbose=1\n",
        ")"
      ],
      "metadata": {
        "colab": {
          "base_uri": "https://localhost:8080/"
        },
        "id": "LcYXWoksKGDa",
        "outputId": "20265e60-3a53-4b6f-feb2-468f38a2cec1"
      },
      "execution_count": 8,
      "outputs": [
        {
          "output_type": "stream",
          "name": "stdout",
          "text": [
            "\n",
            "==================================================\n",
            "STEP 6: Neural Network Training with Epochs\n",
            "==================================================\n",
            "Training neural network model...\n",
            "Epoch 1/10\n",
            "\u001b[1m313/313\u001b[0m \u001b[32m━━━━━━━━━━━━━━━━━━━━\u001b[0m\u001b[37m\u001b[0m \u001b[1m9s\u001b[0m 23ms/step - accuracy: 0.7718 - loss: 0.4982 - val_accuracy: 0.8882 - val_loss: 0.2645\n",
            "Epoch 2/10\n",
            "\u001b[1m313/313\u001b[0m \u001b[32m━━━━━━━━━━━━━━━━━━━━\u001b[0m\u001b[37m\u001b[0m \u001b[1m10s\u001b[0m 23ms/step - accuracy: 0.9238 - loss: 0.2059 - val_accuracy: 0.8784 - val_loss: 0.2986\n",
            "Epoch 3/10\n",
            "\u001b[1m313/313\u001b[0m \u001b[32m━━━━━━━━━━━━━━━━━━━━\u001b[0m\u001b[37m\u001b[0m \u001b[1m12s\u001b[0m 28ms/step - accuracy: 0.9573 - loss: 0.1283 - val_accuracy: 0.8738 - val_loss: 0.3535\n",
            "Epoch 4/10\n",
            "\u001b[1m313/313\u001b[0m \u001b[32m━━━━━━━━━━━━━━━━━━━━\u001b[0m\u001b[37m\u001b[0m \u001b[1m8s\u001b[0m 27ms/step - accuracy: 0.9793 - loss: 0.0708 - val_accuracy: 0.8720 - val_loss: 0.4230\n",
            "Epoch 5/10\n",
            "\u001b[1m313/313\u001b[0m \u001b[32m━━━━━━━━━━━━━━━━━━━━\u001b[0m\u001b[37m\u001b[0m \u001b[1m9s\u001b[0m 22ms/step - accuracy: 0.9882 - loss: 0.0406 - val_accuracy: 0.8692 - val_loss: 0.5155\n",
            "Epoch 6/10\n",
            "\u001b[1m313/313\u001b[0m \u001b[32m━━━━━━━━━━━━━━━━━━━━\u001b[0m\u001b[37m\u001b[0m \u001b[1m10s\u001b[0m 22ms/step - accuracy: 0.9950 - loss: 0.0207 - val_accuracy: 0.8692 - val_loss: 0.5830\n",
            "Epoch 7/10\n",
            "\u001b[1m313/313\u001b[0m \u001b[32m━━━━━━━━━━━━━━━━━━━━\u001b[0m\u001b[37m\u001b[0m \u001b[1m8s\u001b[0m 25ms/step - accuracy: 0.9966 - loss: 0.0124 - val_accuracy: 0.8670 - val_loss: 0.6695\n",
            "Epoch 8/10\n",
            "\u001b[1m313/313\u001b[0m \u001b[32m━━━━━━━━━━━━━━━━━━━━\u001b[0m\u001b[37m\u001b[0m \u001b[1m7s\u001b[0m 22ms/step - accuracy: 0.9969 - loss: 0.0098 - val_accuracy: 0.8680 - val_loss: 0.6946\n",
            "Epoch 9/10\n",
            "\u001b[1m313/313\u001b[0m \u001b[32m━━━━━━━━━━━━━━━━━━━━\u001b[0m\u001b[37m\u001b[0m \u001b[1m10s\u001b[0m 22ms/step - accuracy: 0.9975 - loss: 0.0075 - val_accuracy: 0.8668 - val_loss: 0.7135\n",
            "Epoch 10/10\n",
            "\u001b[1m313/313\u001b[0m \u001b[32m━━━━━━━━━━━━━━━━━━━━\u001b[0m\u001b[37m\u001b[0m \u001b[1m8s\u001b[0m 25ms/step - accuracy: 0.9987 - loss: 0.0047 - val_accuracy: 0.8680 - val_loss: 0.7659\n"
          ]
        }
      ]
    },
    {
      "cell_type": "code",
      "source": [
        "print(\"\\n\" + \"=\"*50)\n",
        "print(\"STEP 7: Neural Network Evaluation\")\n",
        "print(\"=\"*50)\n",
        "\n",
        "# Evaluate the model\n",
        "test_loss, test_accuracy = model.evaluate(X_test_tfidf_dense, y_test, verbose=0)\n",
        "print(f\"Neural Network Test Accuracy: {test_accuracy:.4f}\")\n",
        "\n",
        "# Predictions\n",
        "y_pred_prob = model.predict(X_test_tfidf_dense)\n",
        "y_pred_nn = (y_pred_prob > 0.5).astype(int).flatten()\n",
        "\n",
        "print(\"\\nClassification Report (Neural Network):\")\n",
        "print(classification_report(y_test, y_pred_nn, target_names=['Negative', 'Positive']))\n"
      ],
      "metadata": {
        "colab": {
          "base_uri": "https://localhost:8080/"
        },
        "id": "FlLqgE2BKCTx",
        "outputId": "ae15d528-5dea-4a49-a31d-d46df83183e8"
      },
      "execution_count": 9,
      "outputs": [
        {
          "output_type": "stream",
          "name": "stdout",
          "text": [
            "\n",
            "==================================================\n",
            "STEP 7: Neural Network Evaluation\n",
            "==================================================\n",
            "Neural Network Test Accuracy: 0.8482\n",
            "\u001b[1m782/782\u001b[0m \u001b[32m━━━━━━━━━━━━━━━━━━━━\u001b[0m\u001b[37m\u001b[0m \u001b[1m3s\u001b[0m 3ms/step\n",
            "\n",
            "Classification Report (Neural Network):\n",
            "              precision    recall  f1-score   support\n",
            "\n",
            "    Negative       0.84      0.86      0.85     12500\n",
            "    Positive       0.85      0.84      0.85     12500\n",
            "\n",
            "    accuracy                           0.85     25000\n",
            "   macro avg       0.85      0.85      0.85     25000\n",
            "weighted avg       0.85      0.85      0.85     25000\n",
            "\n"
          ]
        }
      ]
    },
    {
      "cell_type": "code",
      "source": [
        "print(\"\\n\" + \"=\"*50)\n",
        "print(\"STEP 8: Visualization\")\n",
        "print(\"=\"*50)\n",
        "\n",
        "# Plot training history\n",
        "plt.figure(figsize=(12, 5))\n",
        "\n",
        "# Plot training & validation accuracy\n",
        "plt.subplot(1, 2, 1)\n",
        "plt.plot(history.history['accuracy'])\n",
        "plt.plot(history.history['val_accuracy'])\n",
        "plt.title('Model Accuracy')\n",
        "plt.xlabel('Epoch')\n",
        "plt.ylabel('Accuracy')\n",
        "plt.legend(['Train', 'Validation'], loc='lower right')\n",
        "\n",
        "# Plot training & validation loss\n",
        "plt.subplot(1, 2, 2)\n",
        "plt.plot(history.history['loss'])\n",
        "plt.plot(history.history['val_loss'])\n",
        "plt.title('Model Loss')\n",
        "plt.xlabel('Epoch')\n",
        "plt.ylabel('Loss')\n",
        "plt.legend(['Train', 'Validation'], loc='upper right')\n",
        "\n",
        "plt.tight_layout()\n",
        "plt.savefig('training_history.png')\n",
        "plt.show()\n",
        "\n",
        "# Compare confusion matrices\n",
        "plt.figure(figsize=(12, 5))\n",
        "\n",
        "plt.subplot(1, 2, 1)\n",
        "cm_lr = confusion_matrix(y_test, y_pred)\n",
        "sns.heatmap(cm_lr, annot=True, fmt='d', cmap='Blues', cbar=False)\n",
        "plt.title('Confusion Matrix (Logistic Regression)')\n",
        "plt.xlabel('Predicted')\n",
        "plt.ylabel('Actual')\n",
        "\n",
        "plt.subplot(1, 2, 2)\n",
        "cm_nn = confusion_matrix(y_test, y_pred_nn)\n",
        "sns.heatmap(cm_nn, annot=True, fmt='d', cmap='Blues', cbar=False)\n",
        "plt.title('Confusion Matrix (Neural Network)')\n",
        "plt.xlabel('Predicted')\n",
        "plt.ylabel('Actual')\n",
        "\n",
        "plt.tight_layout()\n",
        "plt.savefig('confusion_matrices.png')\n",
        "plt.show()\n"
      ],
      "metadata": {
        "colab": {
          "base_uri": "https://localhost:8080/",
          "height": 1000
        },
        "id": "3Ksa0jtYKCZa",
        "outputId": "5d4a5607-9963-4d95-f4cf-5f1d3953ec19"
      },
      "execution_count": 10,
      "outputs": [
        {
          "output_type": "stream",
          "name": "stdout",
          "text": [
            "\n",
            "==================================================\n",
            "STEP 8: Visualization\n",
            "==================================================\n"
          ]
        },
        {
          "output_type": "display_data",
          "data": {
            "text/plain": [
              "<Figure size 1200x500 with 2 Axes>"
            ],
            "image/png": "[encoded data removed]"
          },
          "metadata": {}
        },
        {
          "output_type": "display_data",
          "data": {
            "text/plain": [
              "<Figure size 1200x500 with 2 Axes>"
            ],
            "image/png": "[encoded data removed]"
          },
          "metadata": {}
        }
      ]
    },
    {
      "cell_type": "code",
      "source": [
        "print(\"\\n\" + \"=\"*50)\n",
        "print(\"STEP 9: Model Application\")\n",
        "print(\"=\"*50)\n",
        "\n",
        "# Function to test a custom review\n",
        "def predict_sentiment(review_text, model_type='nn'):\n",
        "    # Preprocess the input\n",
        "    processed_text = preprocess_text(review_text)\n",
        "    # Convert to TF-IDF\n",
        "    features = tfidf_vectorizer.transform([processed_text])\n",
        "\n",
        "    if model_type == 'lr':\n",
        "        # Predict using logistic regression\n",
        "        prediction = lr_model.predict(features)[0]\n",
        "    else:\n",
        "        # Convert to dense and predict using neural network\n",
        "        features_dense = features.toarray()\n",
        "        prediction_prob = model.predict(features_dense)[0][0]\n",
        "        prediction = 1 if prediction_prob > 0.5 else 0\n",
        "\n",
        "    sentiment = \"Positive\" if prediction == 1 else \"Negative\"\n",
        "    return sentiment\n",
        "\n",
        "# Example of using the prediction function\n",
        "example_review = \"This movie was absolutely fantastic! The acting was superb and the plot kept me engaged throughout.\"\n",
        "print(f\"\\nExample review: {example_review}\")\n",
        "print(f\"Logistic Regression prediction: {predict_sentiment(example_review, 'lr')}\")\n",
        "print(f\"Neural Network prediction: {predict_sentiment(example_review, 'nn')}\")\n",
        "\n",
        "#######################################################\n",
        "# Optional: Experiment with Different Epoch Numbers\n",
        "#######################################################\n",
        "\n",
        "def train_with_different_epochs(epochs_list=[5, 10, 15, 20]):\n",
        "    \"\"\"\n",
        "    Optional function to experiment with different numbers of epochs.\n",
        "    Uncomment and run this section to see how different epoch values affect performance.\n",
        "    \"\"\"\n",
        "    results = []\n",
        "\n",
        "    for num_epochs in epochs_list:\n",
        "        print(f\"\\nTraining model with {num_epochs} epochs...\")\n",
        "\n",
        "        # Rebuild model\n",
        "        temp_model = Sequential([\n",
        "            Dense(128, activation='relu', input_shape=(X_train_tfidf_dense.shape[1],)),\n",
        "            Dropout(0.5),\n",
        "            Dense(64, activation='relu'),\n",
        "            Dropout(0.3),\n",
        "            Dense(1, activation='sigmoid')\n",
        "        ])\n",
        "\n",
        "        temp_model.compile(\n",
        "            optimizer='adam',\n",
        "            loss='binary_crossentropy',\n",
        "            metrics=['accuracy']\n",
        "        )\n",
        "\n",
        "        # Train model\n",
        "        history = temp_model.fit(\n",
        "            X_train_final, y_train_final,\n",
        "            epochs=num_epochs,\n",
        "            batch_size=64,\n",
        "            validation_data=(X_val, y_val),\n",
        "            verbose=0\n",
        "        )\n",
        "\n",
        "        # Evaluate model\n",
        "        test_loss, test_accuracy = temp_model.evaluate(X_test_tfidf_dense, y_test, verbose=0)\n",
        "        val_accuracy = history.history['val_accuracy'][-1]\n",
        "\n",
        "        results.append({\n",
        "            'epochs': num_epochs,\n",
        "            'val_accuracy': val_accuracy,\n",
        "            'test_accuracy': test_accuracy\n",
        "        })\n",
        "\n",
        "    # Display results\n",
        "    results_df = pd.DataFrame(results)\n",
        "    print(\"\\nResults with different epoch counts:\")\n",
        "    print(results_df)\n",
        "\n",
        "    # Plot results\n",
        "    plt.figure(figsize=(10, 6))\n",
        "    plt.plot(results_df['epochs'], results_df['val_accuracy'], 'o-', label='Validation Accuracy')\n",
        "    plt.plot(results_df['epochs'], results_df['test_accuracy'], 'o-', label='Test Accuracy')\n",
        "    plt.title('Model Performance vs. Number of Epochs')\n",
        "    plt.xlabel('Number of Epochs')\n",
        "    plt.ylabel('Accuracy')\n",
        "    plt.grid(True)\n",
        "    plt.legend()\n",
        "    plt.tight_layout()\n",
        "    plt.savefig('epochs_comparison.png')\n",
        "    plt.show()\n",
        "\n",
        "# Uncomment to run the epoch comparison experiment\n",
        "# train_with_different_epochs()\n",
        "\n",
        "print(\"\\n\" + \"=\"*50)\n",
        "print(\"COMPLETED ALL STEPS\")\n",
        "print(\"=\"*50)"
      ],
      "metadata": {
        "colab": {
          "base_uri": "https://localhost:8080/"
        },
        "id": "iPhZd_vEKCeh",
        "outputId": "623d6eb9-6033-47ee-e79e-a9ddbf0cdbc6"
      },
      "execution_count": 11,
      "outputs": [
        {
          "output_type": "stream",
          "name": "stdout",
          "text": [
            "\n",
            "==================================================\n",
            "STEP 9: Model Application\n",
            "==================================================\n",
            "\n",
            "Example review: This movie was absolutely fantastic! The acting was superb and the plot kept me engaged throughout.\n",
            "Logistic Regression prediction: Positive\n",
            "\u001b[1m1/1\u001b[0m \u001b[32m━━━━━━━━━━━━━━━━━━━━\u001b[0m\u001b[37m\u001b[0m \u001b[1m0s\u001b[0m 43ms/step\n",
            "Neural Network prediction: Positive\n",
            "\n",
            "==================================================\n",
            "COMPLETED ALL STEPS\n",
            "==================================================\n"
          ]
        }
      ]
    },
    {
      "cell_type": "code",
      "source": [],
      "metadata": {
        "id": "ZgU9_XXGKCjz"
      },
      "execution_count": null,
      "outputs": []
    },
    {
      "cell_type": "code",
      "source": [],
      "metadata": {
        "id": "GKnPD2O7KCna"
      },
      "execution_count": null,
      "outputs": []
    },
    {
      "cell_type": "code",
      "source": [],
      "metadata": {
        "id": "CzyTB4TxKCpp"
      },
      "execution_count": null,
      "outputs": []
    },
    {
      "cell_type": "code",
      "source": [],
      "metadata": {
        "id": "zedkza-QKCsL"
      },
      "execution_count": null,
      "outputs": []
    },
    {
      "cell_type": "code",
      "source": [],
      "metadata": {
        "id": "vD6tEcjUKCuq"
      },
      "execution_count": null,
      "outputs": []
    }
  ]
}